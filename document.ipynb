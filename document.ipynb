{
 "cells": [
  {
   "cell_type": "code",
   "execution_count": null,
   "metadata": {
    "tags": []
   },
   "outputs": [],
   "source": [
    "#BIBLIOTECAS USADAS\n",
    "pip install PySimpleGUI, selenium #digite isso no PowerShell do windows para instalar as bibliotecas"
   ]
  },
  {
   "cell_type": "code",
   "execution_count": null,
   "metadata": {},
   "outputs": [],
   "source": [
    "#EM SEQUIDA IMPORTE AS BIBLIOTECAS USANDO O SEQUINTE CÓDIGO\n",
    "import PySimpleGUI as sg\n",
    "from selenium import webdriver #esse webdriver é um recurso da biblioteca do selenium"
   ]
  },
  {
   "cell_type": "code",
   "execution_count": 3,
   "metadata": {},
   "outputs": [
    {
     "ename": "NameError",
     "evalue": "name 'sg' is not defined",
     "output_type": "error",
     "traceback": [
      "\u001b[1;31m---------------------------------------------------------------------------\u001b[0m",
      "\u001b[1;31mNameError\u001b[0m                                 Traceback (most recent call last)",
      "Cell \u001b[1;32mIn[3], line 2\u001b[0m\n\u001b[0;32m      1\u001b[0m \u001b[39m#ESSE CÓDIGO É PARA GERAR A INTERFACE SEM INTERAÇÃO COM O RESTO DO CÓDIGO\u001b[39;00m\n\u001b[1;32m----> 2\u001b[0m sg\u001b[39m.\u001b[39mtheme(\u001b[39m'\u001b[39m\u001b[39mDark2\u001b[39m\u001b[39m'\u001b[39m)\n\u001b[0;32m      3\u001b[0m layout \u001b[39m=\u001b[39m [\n\u001b[0;32m      4\u001b[0m     [sg\u001b[39m.\u001b[39mText(\u001b[39m'\u001b[39m\u001b[39mCÓDIGO DO SIAFI:    \u001b[39m\u001b[39m'\u001b[39m), sg\u001b[39m.\u001b[39mInput(key\u001b[39m=\u001b[39m\u001b[39m'\u001b[39m\u001b[39musuario\u001b[39m\u001b[39m'\u001b[39m, size\u001b[39m=\u001b[39m(\u001b[39m20\u001b[39m, \u001b[39m1\u001b[39m))],\n\u001b[0;32m      5\u001b[0m     [sg\u001b[39m.\u001b[39mText(\u001b[39m'\u001b[39m\u001b[39mDIGITE SUA SENHA: \u001b[39m\u001b[39m'\u001b[39m), sg\u001b[39m.\u001b[39mInput(key\u001b[39m=\u001b[39m\u001b[39m'\u001b[39m\u001b[39msenha\u001b[39m\u001b[39m'\u001b[39m, password_char\u001b[39m=\u001b[39m\u001b[39m'\u001b[39m\u001b[39m*\u001b[39m\u001b[39m'\u001b[39m, size\u001b[39m=\u001b[39m(\u001b[39m20\u001b[39m, \u001b[39m1\u001b[39m))],\n\u001b[1;32m   (...)\u001b[0m\n\u001b[0;32m      8\u001b[0m     [sg\u001b[39m.\u001b[39mButton(\u001b[39m'\u001b[39m\u001b[39mComeçar\u001b[39m\u001b[39m'\u001b[39m)]\n\u001b[0;32m      9\u001b[0m ]\n\u001b[0;32m     10\u001b[0m janela \u001b[39m=\u001b[39m sg\u001b[39m.\u001b[39mWindow(\u001b[39m'\u001b[39m\u001b[39mAutomatização de Liquidação\u001b[39m\u001b[39m'\u001b[39m, layout)\n",
      "\u001b[1;31mNameError\u001b[0m: name 'sg' is not defined"
     ]
    }
   ],
   "source": [
    "#ESSE CÓDIGO É PARA GERAR A INTERFACE SEM INTERAÇÃO COM O RESTO DO CÓDIGO\n",
    "sg.theme('Dark2')\n",
    "layout = [\n",
    "    [sg.Text('CÓDIGO DO SIAFI:    '), sg.Input(key='usuario', size=(20, 1))],\n",
    "    [sg.Text('DIGITE SUA SENHA: '), sg.Input(key='senha', password_char='*', size=(20, 1))],\n",
    "    [sg.Text('NOME DA NOTA FISCAL COM EXTENÇÃO EM .PDF')],\n",
    "    [sg.Input(key='arquivo', size=(20,1))],\n",
    "    [sg.Button('Começar')]\n",
    "]\n",
    "janela = sg.Window('Automatização de Liquidação', layout)\n",
    "while True:\n",
    "    eventos, valores = janela.read()\n",
    "    if eventos == sg.WIN_CLOSED:\n",
    "        break"
   ]
  }
 ],
 "metadata": {
  "kernelspec": {
   "display_name": "Python 3",
   "language": "python",
   "name": "python3"
  },
  "language_info": {
   "codemirror_mode": {
    "name": "ipython",
    "version": 3
   },
   "file_extension": ".py",
   "mimetype": "text/x-python",
   "name": "python",
   "nbconvert_exporter": "python",
   "pygments_lexer": "ipython3",
   "version": "3.11.4"
  },
  "orig_nbformat": 4
 },
 "nbformat": 4,
 "nbformat_minor": 2
}
