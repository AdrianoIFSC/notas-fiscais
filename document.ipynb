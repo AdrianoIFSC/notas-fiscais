{
 "cells": [
  {
   "cell_type": "code",
   "execution_count": null,
   "metadata": {
    "tags": []
   },
   "outputs": [],
   "source": [
    "#INSTALAÇÃO DAS BIBLIOTECAS (Digite este código no PowerShell do seu Windows)\n",
    "pip install PySimpleGUI, selenium"
   ]
  },
  {
   "cell_type": "code",
   "execution_count": null,
   "metadata": {},
   "outputs": [],
   "source": [
    "#IMPORTAÇÃO DAS BIBLIOTECAS PARA SEU EDITOR DE CÓDIGO (Pode ser o Visual Studio Code, Pycharm ou qualquer editor de código compativel com python)\n",
    "import PySimpleGUI as sg\n",
    "from selenium import webdriver"
   ]
  },
  {
   "cell_type": "code",
   "execution_count": null,
   "metadata": {},
   "outputs": [],
   "source": [
    "#GERANDO INTERFACE SEM INTERAÇÃO COM O RESTO DO CÓDIGO\n",
    "sg.theme('Dark2')\n",
    "layout = [\n",
    "    [sg.Text('CÓDIGO DO SIAFI:    '), sg.Input(key='usuario', size=(20, 1))],\n",
    "    [sg.Text('DIGITE SUA SENHA: '), sg.Input(key='senha', password_char='*', size=(20, 1))],\n",
    "    [sg.Text('NOME DA NOTA FISCAL COM EXTENÇÃO EM .PDF')],\n",
    "    [sg.Input(key='arquivo', size=(20,1))],\n",
    "    [sg.Button('Começar')]\n",
    "]\n",
    "janela = sg.Window('Automatização de Liquidação', layout)\n",
    "while True:\n",
    "    eventos, valores = janela.read()\n",
    "    if eventos == sg.WIN_CLOSED:\n",
    "        break"
   ]
  },
  {
   "cell_type": "code",
   "execution_count": null,
   "metadata": {},
   "outputs": [],
   "source": [
    "#ESSE PROCESSO SE RESUMI EM IR ATÉ O SITE DE LEITURA DAS NOTAS E IMPORTAR PARA O SITE E COLETAR AS INFORMAÇÕES E IMPORTAR PARA O SITE ONDE SERA FEITO A LIQUIDAÇÃO"
   ]
  }
 ],
 "metadata": {
  "kernelspec": {
   "display_name": "Python 3",
   "language": "python",
   "name": "python3"
  },
  "language_info": {
   "codemirror_mode": {
    "name": "ipython",
    "version": 3
   },
   "file_extension": ".py",
   "mimetype": "text/x-python",
   "name": "python",
   "nbconvert_exporter": "python",
   "pygments_lexer": "ipython3",
   "version": "3.11.4"
  },
  "orig_nbformat": 4
 },
 "nbformat": 4,
 "nbformat_minor": 2
}
